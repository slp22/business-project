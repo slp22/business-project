{
 "cells": [
  {
   "cell_type": "markdown",
   "metadata": {},
   "source": [
    "# CMS Survey – 2021 Supplement"
   ]
  },
  {
   "cell_type": "markdown",
   "metadata": {
    "id": "_yvHcjEWk20x"
   },
   "source": [
    "[data user guide](https://www.cms.gov/files/document/2021mcbscovidpufdugwinter.pdf)<br/>\n",
    "[data dictionary](https://www.cms.gov/files/document/covidpuf32021wtxt.txt)\n",
    "\n",
    "---\n",
    "\n"
   ]
  },
  {
   "cell_type": "code",
   "execution_count": 1,
   "metadata": {
    "id": "AqpR_pcqjFGR"
   },
   "outputs": [],
   "source": [
    "import pandas as pd\n",
    "import numpy as np\n",
    "import imblearn.over_sampling\n",
    "import matplotlib.pyplot as plt\n",
    "import seaborn as sns\n",
    "\n",
    "plt.style.use('ggplot')\n",
    "sns.set_style(\"whitegrid\")\n",
    "%matplotlib inline\n"
   ]
  },
  {
   "cell_type": "code",
   "execution_count": 2,
   "metadata": {
    "colab": {
     "base_uri": "https://localhost:8080/"
    },
    "id": "uLqzCLqZji9Y",
    "outputId": "bdc2a84c-fc8e-4754-91cf-fd19aa9800bf"
   },
   "outputs": [
    {
     "name": "stderr",
     "output_type": "stream",
     "text": [
      "/var/folders/9q/517kb3kd6rz7pq25y7fyk9w00000gn/T/ipykernel_8949/1552268147.py:1: DtypeWarning: Columns (13,18,26,27,33,34,35,36,37,39,40,41,42,45,46,47,48,50,51,52,53,55,56,57,58,59,60,63,64,69,70,72,73,74,75,76,77,79,82,84,86,87,89,90,91,92,93,94,96,97,99,100,101,102,103,104,106,107,108,109,110,111,121,125,128,131,138,141,144,145,151,169,175,178,179,180,181,182,183,184,195,197,199,200,227,260,261,272,273,275,276,279,285,286,288) have mixed types. Specify dtype option on import or set low_memory=False.\n",
      "  raw_df = pd.read_csv('/Users/sandraparedes/Documents/GitHub/metis_dsml/03_business/business-project/COVIDPUF_3_2021W.csv')\n"
     ]
    }
   ],
   "source": [
    "raw_df = pd.read_csv('/Users/sandraparedes/Documents/GitHub/metis_dsml/03_business/business-project/COVIDPUF_3_2021W.csv')\n"
   ]
  },
  {
   "cell_type": "code",
   "execution_count": null,
   "metadata": {
    "colab": {
     "base_uri": "https://localhost:8080/",
     "height": 300
    },
    "id": "AYMNpXJXkS6K",
    "outputId": "402ec226-e71a-4e67-b09b-949388de7894"
   },
   "outputs": [],
   "source": [
    "raw_df.head()"
   ]
  },
  {
   "cell_type": "code",
   "execution_count": null,
   "metadata": {
    "colab": {
     "base_uri": "https://localhost:8080/",
     "height": 394
    },
    "id": "pIgUbBSdkVNo",
    "outputId": "f0dad60a-2b42-4c63-85a5-5f8f8b148f9c"
   },
   "outputs": [],
   "source": [
    "raw_df.describe()"
   ]
  },
  {
   "cell_type": "code",
   "execution_count": null,
   "metadata": {
    "colab": {
     "base_uri": "https://localhost:8080/"
    },
    "id": "GnP1LvxFkYhi",
    "outputId": "6cd5ffa8-0549-49be-9840-cd8bea093809"
   },
   "outputs": [],
   "source": [
    "raw_df.info()"
   ]
  },
  {
   "cell_type": "code",
   "execution_count": null,
   "metadata": {
    "colab": {
     "base_uri": "https://localhost:8080/"
    },
    "id": "BTlXnijlka4k",
    "outputId": "a71853fd-5339-4574-a7bd-15fefa19a0d5"
   },
   "outputs": [],
   "source": [
    "raw_df.columns"
   ]
  },
  {
   "cell_type": "code",
   "execution_count": null,
   "metadata": {
    "colab": {
     "base_uri": "https://localhost:8080/",
     "height": 488
    },
    "id": "DNJ91B1OkkOA",
    "outputId": "ca9f5988-cebf-4a1f-fb47-ebada5d3d508"
   },
   "outputs": [],
   "source": [
    "raw_df.iloc[:, 3:17:].head()"
   ]
  },
  {
   "cell_type": "markdown",
   "metadata": {
    "id": "gfkiTiZUnTXo"
   },
   "source": [
    "`INV_LANG`           \n",
    "LANG                          Language interview conducted in          \n",
    "                              10,546                  1  English                                                                    \n",
    "                                 561                  2  Spanish                                                                                  \n",
    " \n",
    "`DMV_AGECAT`         \n",
    "AGECAT                        Age group                                \n",
    "                               1,771                  1  < 65 years                                                                 \n",
    "                               3,972                  2  65-74 years                                                                \n",
    "                               5,364                  3  75+ years                                                                  \n",
    " \n",
    "`DMV_SEX`            \n",
    "SEXF                          Gender                                   \n",
    "                               5,019                  1  Male                                                                       \n",
    "                               6,088                  2  Female                                                      "
   ]
  },
  {
   "cell_type": "code",
   "execution_count": null,
   "metadata": {
    "colab": {
     "base_uri": "https://localhost:8080/",
     "height": 424
    },
    "id": "mqZOy1JGnTOR",
    "outputId": "06909acf-3349-43bc-d709-951c86d4e0f1"
   },
   "outputs": [],
   "source": [
    "raw_df.iloc[:, 19:27:].head()"
   ]
  },
  {
   "cell_type": "markdown",
   "metadata": {
    "id": "wjIh7SRonTZ1"
   },
   "source": [
    "`ACV_TELMED`         \n",
    "YESNODK                       PCP offers telehealth appointments       \n",
    "                               2,294                  D  Don't know                                                                 \n",
    "                                 506                  .  Inapplicable/Missing                                                       \n",
    "                                   1                  R  Refused                                                                    \n",
    "                               6,491                  1  Yes                                                                        \n",
    "                               1,815                  2  No                                                                         \n",
    "         Notes:  Applies only if ACV_PLACPART = 1.\n",
    "                 First available in 2020\n",
    " \n",
    "`ACV_TELMEDT1`       \n",
    "TELEVID                       Type of telehealth offered               \n",
    "                                 769                  D  Don't know                                                                 \n",
    "                               4,616                  .  Inapplicable/Missing                                                       \n",
    "                                   4                  R  Refused                                                                    \n",
    "                               1,339                  1  Telephone                                                                  \n",
    "                                 415                  2  Video                                                                      \n",
    "                               3,964                  3  Both                                                                       \n",
    "         Notes:  Applies only if ACV_TELMED = 1.\n",
    "                 First available in 2020\n",
    " \n",
    "`ACV_TELMEDDU`       \n",
    "YESNODK                       SP offered telehealth since 11/1/20      \n",
    "                                 147                  D  Don't know                                                                 \n",
    "                               4,616                  .  Inapplicable/Missing                                                       \n",
    "                                   1                  R  Refused                                                                    \n",
    "                               3,183                  1  Yes                                                                        \n",
    "                               3,160                  2  No                                                                         \n",
    "         Notes:  Applies only if ACV_TELMED = 1.\n",
    "                 First available in 2020\n",
    " \n",
    " \n",
    "`ACV_TELMEDUS`       \n",
    "YESNODK                       SP had telehealth visit since 11/1/20    \n",
    "                                  60                  D  Don't know                                                                 \n",
    "                               4,616                  .  Inapplicable/Missing                                                       \n",
    "                                   1                  R  Refused                                                                    \n",
    "                               2,948                  1  Yes                                                                        \n",
    "                               3,482                  2  No                                                                         \n",
    "         Notes:  Applies only if ACV_TELMED = 1.\n",
    "                 First available in Fall 2020 COVID round.\n",
    " \n",
    "`ACV_TELMEDT4`       \n",
    "TELEVID                       Type of telehealth visit had 11/1/20     \n",
    "                                   6                  D  Don't know                                                                 \n",
    "                               8,159                  .  Inapplicable/Missing                                                       \n",
    "                               1,620                  1  Telephone                                                                  \n",
    "                                 825                  2  Video                                                                      \n",
    "                                 497                  3  Both                                                                       \n",
    "         Notes:  Applies only if ACV_TELMEDUS = 1.\n",
    "                 First available in Fall 2020 COVID round."
   ]
  },
  {
   "cell_type": "code",
   "execution_count": null,
   "metadata": {
    "colab": {
     "base_uri": "https://localhost:8080/",
     "height": 424
    },
    "id": "lQziVAEHnTRp",
    "outputId": "a7d4dd17-484b-45b9-9376-05a086c4f479"
   },
   "outputs": [],
   "source": [
    "raw_df.iloc[:, 28:32:].head()"
   ]
  },
  {
   "cell_type": "markdown",
   "metadata": {},
   "source": [
    "`ACV_COMPDESK`      \n",
    "YESNODK   COMPUTER            Own computer                             \n",
    "                                  26                  D  Don't know                                                                 \n",
    "                                   4                  R  Refused                                                                    \n",
    "                               6,786                  1  Yes                                                                        \n",
    "                               4,291                  2  No                                                                         \n",
    "                 First available in 2020\n",
    " \n",
    "`ACV_COMPPHON`       \n",
    "YESNODK   COMPUTER            Own smartphone                           \n",
    "                                 117                  D  Don't know                                                                 \n",
    "                                   4                  R  Refused                                                                    \n",
    "                               7,164                  1  Yes                                                                        \n",
    "                               3,822                  2  No                                                                         \n",
    "                 First available in 2020\n",
    " \n",
    "`ACV_COMPTAB`        \n",
    "YESNODK   COMPUTER            Own tablet                               \n",
    "                                  21                  D  Don't know                                                                 \n",
    "                                   6                  R  Refused                                                                    \n",
    "                               4,574                  1  Yes                                                                        \n",
    "                               6,506                  2  No                                                                         \n",
    "                 First available in 2020\n",
    " \n",
    "`ACV_INTERNET`       \n",
    "YESNODK                       Access to Internet                       \n",
    "                                  47                  D  Don't know                                                                 \n",
    "                                   3                  R  Refused                                                                    \n",
    "                               8,866                  1  Yes                                                                        \n",
    "                               2,191                  2  No                                                                         \n",
    "                 First available in 2020\n",
    " \n",
    "`ACV_AUDIOVID`\n",
    "YESNODK                       Use video or voice calls                 \n",
    "                                  44                  D  Don't know                                                                 \n",
    "                                   3                  R  Refused                                                                    \n",
    "                               4,977                  1  Yes                                                                        \n",
    "                               6,083                  2  No                                                                         \n",
    "                 First available in 2020\n",
    " \n",
    "`ACV_COVIDCAR`       \n",
    "YESNODK                       Unable to get care bc of CV19 since 11/1 <br/>\n",
    "                                  51                  D  Don't know                                                                 \n",
    "                                   3                  R  Refused                                                                    \n",
    "                                 680                  1  Yes                                                                        \n",
    "                              10,373                  2  No                                                                         \n",
    "                 First available in 2020"
   ]
  },
  {
   "cell_type": "code",
   "execution_count": 93,
   "metadata": {
    "id": "TUtO_6pMk3I0"
   },
   "outputs": [
    {
     "data": {
      "text/html": [
       "<div>\n",
       "<style scoped>\n",
       "    .dataframe tbody tr th:only-of-type {\n",
       "        vertical-align: middle;\n",
       "    }\n",
       "\n",
       "    .dataframe tbody tr th {\n",
       "        vertical-align: top;\n",
       "    }\n",
       "\n",
       "    .dataframe thead th {\n",
       "        text-align: right;\n",
       "    }\n",
       "</style>\n",
       "<table border=\"1\" class=\"dataframe\">\n",
       "  <thead>\n",
       "    <tr style=\"text-align: right;\">\n",
       "      <th></th>\n",
       "      <th>INV_LANG</th>\n",
       "      <th>DMV_AGECAT</th>\n",
       "      <th>DMV_SEX</th>\n",
       "      <th>ACV_TELMED</th>\n",
       "      <th>ACV_TELMEDT1</th>\n",
       "      <th>ACV_TELMEDDU</th>\n",
       "      <th>ACV_TELMEDUS</th>\n",
       "      <th>ACV_TELMEDT4</th>\n",
       "      <th>ACV_COMPPHON</th>\n",
       "      <th>ACV_COMPTAB</th>\n",
       "      <th>ACV_INTERNET</th>\n",
       "      <th>ACV_AUDIOVID</th>\n",
       "    </tr>\n",
       "  </thead>\n",
       "  <tbody>\n",
       "    <tr>\n",
       "      <th>0</th>\n",
       "      <td>1</td>\n",
       "      <td>3</td>\n",
       "      <td>2</td>\n",
       "      <td>2</td>\n",
       "      <td>NaN</td>\n",
       "      <td>NaN</td>\n",
       "      <td>NaN</td>\n",
       "      <td>NaN</td>\n",
       "      <td>2</td>\n",
       "      <td>2</td>\n",
       "      <td>2</td>\n",
       "      <td>2</td>\n",
       "    </tr>\n",
       "    <tr>\n",
       "      <th>1</th>\n",
       "      <td>1</td>\n",
       "      <td>1</td>\n",
       "      <td>1</td>\n",
       "      <td>1</td>\n",
       "      <td>2</td>\n",
       "      <td>1</td>\n",
       "      <td>1</td>\n",
       "      <td>2</td>\n",
       "      <td>1</td>\n",
       "      <td>1</td>\n",
       "      <td>1</td>\n",
       "      <td>1</td>\n",
       "    </tr>\n",
       "    <tr>\n",
       "      <th>2</th>\n",
       "      <td>2</td>\n",
       "      <td>1</td>\n",
       "      <td>1</td>\n",
       "      <td>1</td>\n",
       "      <td>1</td>\n",
       "      <td>1</td>\n",
       "      <td>1</td>\n",
       "      <td>1</td>\n",
       "      <td>1</td>\n",
       "      <td>2</td>\n",
       "      <td>2</td>\n",
       "      <td>1</td>\n",
       "    </tr>\n",
       "    <tr>\n",
       "      <th>3</th>\n",
       "      <td>1</td>\n",
       "      <td>3</td>\n",
       "      <td>2</td>\n",
       "      <td>1</td>\n",
       "      <td>3</td>\n",
       "      <td>2</td>\n",
       "      <td>1</td>\n",
       "      <td>1</td>\n",
       "      <td>1</td>\n",
       "      <td>1</td>\n",
       "      <td>1</td>\n",
       "      <td>1</td>\n",
       "    </tr>\n",
       "    <tr>\n",
       "      <th>4</th>\n",
       "      <td>1</td>\n",
       "      <td>3</td>\n",
       "      <td>2</td>\n",
       "      <td>1</td>\n",
       "      <td>3</td>\n",
       "      <td>2</td>\n",
       "      <td>1</td>\n",
       "      <td>3</td>\n",
       "      <td>1</td>\n",
       "      <td>1</td>\n",
       "      <td>1</td>\n",
       "      <td>2</td>\n",
       "    </tr>\n",
       "  </tbody>\n",
       "</table>\n",
       "</div>"
      ],
      "text/plain": [
       "   INV_LANG  DMV_AGECAT  DMV_SEX ACV_TELMED ACV_TELMEDT1 ACV_TELMEDDU  \\\n",
       "0         1           3        2          2          NaN          NaN   \n",
       "1         1           1        1          1            2            1   \n",
       "2         2           1        1          1            1            1   \n",
       "3         1           3        2          1            3            2   \n",
       "4         1           3        2          1            3            2   \n",
       "\n",
       "  ACV_TELMEDUS ACV_TELMEDT4 ACV_COMPPHON ACV_COMPTAB ACV_INTERNET ACV_AUDIOVID  \n",
       "0          NaN          NaN            2           2            2            2  \n",
       "1            1            2            1           1            1            1  \n",
       "2            1            1            1           2            2            1  \n",
       "3            1            1            1           1            1            1  \n",
       "4            1            3            1           1            1            2  "
      ]
     },
     "execution_count": 93,
     "metadata": {},
     "output_type": "execute_result"
    }
   ],
   "source": [
    "# select demographics, telemed experience, and technology questions\n",
    "sub_df = raw_df[['INV_LANG', \n",
    "            'DMV_AGECAT', \n",
    "            'DMV_SEX', \n",
    "            'ACV_TELMED', \n",
    "            'ACV_TELMEDT1',\n",
    "            'ACV_TELMEDDU', \n",
    "            'ACV_TELMEDUS', \n",
    "            'ACV_TELMEDT4', \n",
    "            'ACV_COMPPHON', \n",
    "            'ACV_COMPTAB', \n",
    "            'ACV_INTERNET', \n",
    "            'ACV_AUDIOVID']]\n",
    "sub_df.head()"
   ]
  },
  {
   "cell_type": "code",
   "execution_count": 92,
   "metadata": {
    "id": "WU6ReTC_mp_w"
   },
   "outputs": [
    {
     "data": {
      "text/plain": [
       "INV_LANG           0\n",
       "DMV_AGECAT         0\n",
       "DMV_SEX            0\n",
       "ACV_TELMED       506\n",
       "ACV_TELMEDT1    4616\n",
       "ACV_TELMEDDU    4616\n",
       "ACV_TELMEDUS    4616\n",
       "ACV_TELMEDT4    8159\n",
       "ACV_COMPPHON       0\n",
       "ACV_COMPTAB        0\n",
       "ACV_INTERNET       0\n",
       "ACV_AUDIOVID       0\n",
       "dtype: int64"
      ]
     },
     "execution_count": 92,
     "metadata": {},
     "output_type": "execute_result"
    }
   ],
   "source": [
    "sub_df.isnull().sum()"
   ]
  },
  {
   "cell_type": "code",
   "execution_count": 81,
   "metadata": {},
   "outputs": [
    {
     "data": {
      "text/html": [
       "<div>\n",
       "<style scoped>\n",
       "    .dataframe tbody tr th:only-of-type {\n",
       "        vertical-align: middle;\n",
       "    }\n",
       "\n",
       "    .dataframe tbody tr th {\n",
       "        vertical-align: top;\n",
       "    }\n",
       "\n",
       "    .dataframe thead th {\n",
       "        text-align: right;\n",
       "    }\n",
       "</style>\n",
       "<table border=\"1\" class=\"dataframe\">\n",
       "  <thead>\n",
       "    <tr style=\"text-align: right;\">\n",
       "      <th></th>\n",
       "      <th>INV_LANG</th>\n",
       "      <th>DMV_AGECAT</th>\n",
       "      <th>DMV_SEX</th>\n",
       "      <th>ACV_TELMED</th>\n",
       "      <th>ACV_TELMEDT1</th>\n",
       "      <th>ACV_TELMEDDU</th>\n",
       "      <th>ACV_TELMEDUS</th>\n",
       "      <th>ACV_TELMEDT4</th>\n",
       "      <th>ACV_COMPPHON</th>\n",
       "      <th>ACV_COMPTAB</th>\n",
       "      <th>ACV_INTERNET</th>\n",
       "      <th>ACV_AUDIOVID</th>\n",
       "    </tr>\n",
       "  </thead>\n",
       "  <tbody>\n",
       "    <tr>\n",
       "      <th>0</th>\n",
       "      <td>1</td>\n",
       "      <td>3</td>\n",
       "      <td>2</td>\n",
       "      <td>2</td>\n",
       "      <td>NaN</td>\n",
       "      <td>NaN</td>\n",
       "      <td>NaN</td>\n",
       "      <td>NaN</td>\n",
       "      <td>2</td>\n",
       "      <td>2</td>\n",
       "      <td>2</td>\n",
       "      <td>2</td>\n",
       "    </tr>\n",
       "    <tr>\n",
       "      <th>1</th>\n",
       "      <td>1</td>\n",
       "      <td>1</td>\n",
       "      <td>1</td>\n",
       "      <td>1</td>\n",
       "      <td>2</td>\n",
       "      <td>1</td>\n",
       "      <td>1</td>\n",
       "      <td>2</td>\n",
       "      <td>1</td>\n",
       "      <td>1</td>\n",
       "      <td>1</td>\n",
       "      <td>1</td>\n",
       "    </tr>\n",
       "    <tr>\n",
       "      <th>3</th>\n",
       "      <td>1</td>\n",
       "      <td>3</td>\n",
       "      <td>2</td>\n",
       "      <td>1</td>\n",
       "      <td>3</td>\n",
       "      <td>2</td>\n",
       "      <td>1</td>\n",
       "      <td>1</td>\n",
       "      <td>1</td>\n",
       "      <td>1</td>\n",
       "      <td>1</td>\n",
       "      <td>1</td>\n",
       "    </tr>\n",
       "    <tr>\n",
       "      <th>4</th>\n",
       "      <td>1</td>\n",
       "      <td>3</td>\n",
       "      <td>2</td>\n",
       "      <td>1</td>\n",
       "      <td>3</td>\n",
       "      <td>2</td>\n",
       "      <td>1</td>\n",
       "      <td>3</td>\n",
       "      <td>1</td>\n",
       "      <td>1</td>\n",
       "      <td>1</td>\n",
       "      <td>2</td>\n",
       "    </tr>\n",
       "    <tr>\n",
       "      <th>5</th>\n",
       "      <td>1</td>\n",
       "      <td>3</td>\n",
       "      <td>2</td>\n",
       "      <td>D</td>\n",
       "      <td>NaN</td>\n",
       "      <td>NaN</td>\n",
       "      <td>NaN</td>\n",
       "      <td>NaN</td>\n",
       "      <td>2</td>\n",
       "      <td>1</td>\n",
       "      <td>2</td>\n",
       "      <td>2</td>\n",
       "    </tr>\n",
       "  </tbody>\n",
       "</table>\n",
       "</div>"
      ],
      "text/plain": [
       "   INV_LANG  DMV_AGECAT  DMV_SEX ACV_TELMED ACV_TELMEDT1 ACV_TELMEDDU  \\\n",
       "0         1           3        2          2          NaN          NaN   \n",
       "1         1           1        1          1            2            1   \n",
       "3         1           3        2          1            3            2   \n",
       "4         1           3        2          1            3            2   \n",
       "5         1           3        2          D          NaN          NaN   \n",
       "\n",
       "  ACV_TELMEDUS ACV_TELMEDT4 ACV_COMPPHON ACV_COMPTAB ACV_INTERNET ACV_AUDIOVID  \n",
       "0          NaN          NaN            2           2            2            2  \n",
       "1            1            2            1           1            1            1  \n",
       "3            1            1            1           1            1            1  \n",
       "4            1            3            1           1            1            2  \n",
       "5          NaN          NaN            2           1            2            2  "
      ]
     },
     "execution_count": 81,
     "metadata": {},
     "output_type": "execute_result"
    }
   ],
   "source": [
    "# respondents who gave the interview in Spanish\n",
    "span_df = sub_df.query('INV_LANG == 1')\n",
    "span_df.head()"
   ]
  },
  {
   "cell_type": "code",
   "execution_count": 89,
   "metadata": {},
   "outputs": [
    {
     "data": {
      "text/html": [
       "<div>\n",
       "<style scoped>\n",
       "    .dataframe tbody tr th:only-of-type {\n",
       "        vertical-align: middle;\n",
       "    }\n",
       "\n",
       "    .dataframe tbody tr th {\n",
       "        vertical-align: top;\n",
       "    }\n",
       "\n",
       "    .dataframe thead th {\n",
       "        text-align: right;\n",
       "    }\n",
       "</style>\n",
       "<table border=\"1\" class=\"dataframe\">\n",
       "  <thead>\n",
       "    <tr style=\"text-align: right;\">\n",
       "      <th></th>\n",
       "      <th>INV_LANG</th>\n",
       "      <th>DMV_AGECAT</th>\n",
       "      <th>DMV_SEX</th>\n",
       "      <th>ACV_TELMED</th>\n",
       "      <th>ACV_TELMEDT1</th>\n",
       "      <th>ACV_TELMEDDU</th>\n",
       "      <th>ACV_TELMEDUS</th>\n",
       "      <th>ACV_TELMEDT4</th>\n",
       "      <th>ACV_COMPPHON</th>\n",
       "      <th>ACV_COMPTAB</th>\n",
       "      <th>ACV_INTERNET</th>\n",
       "      <th>ACV_AUDIOVID</th>\n",
       "    </tr>\n",
       "  </thead>\n",
       "  <tbody>\n",
       "    <tr>\n",
       "      <th>2</th>\n",
       "      <td>2</td>\n",
       "      <td>1</td>\n",
       "      <td>1</td>\n",
       "      <td>1</td>\n",
       "      <td>1</td>\n",
       "      <td>1</td>\n",
       "      <td>1</td>\n",
       "      <td>1</td>\n",
       "      <td>1</td>\n",
       "      <td>2</td>\n",
       "      <td>2</td>\n",
       "      <td>1</td>\n",
       "    </tr>\n",
       "    <tr>\n",
       "      <th>85</th>\n",
       "      <td>2</td>\n",
       "      <td>1</td>\n",
       "      <td>2</td>\n",
       "      <td>1</td>\n",
       "      <td>3</td>\n",
       "      <td>2</td>\n",
       "      <td>1</td>\n",
       "      <td>3</td>\n",
       "      <td>1</td>\n",
       "      <td>2</td>\n",
       "      <td>2</td>\n",
       "      <td>1</td>\n",
       "    </tr>\n",
       "    <tr>\n",
       "      <th>109</th>\n",
       "      <td>2</td>\n",
       "      <td>3</td>\n",
       "      <td>2</td>\n",
       "      <td>1</td>\n",
       "      <td>3</td>\n",
       "      <td>1</td>\n",
       "      <td>1</td>\n",
       "      <td>3</td>\n",
       "      <td>1</td>\n",
       "      <td>2</td>\n",
       "      <td>1</td>\n",
       "      <td>2</td>\n",
       "    </tr>\n",
       "    <tr>\n",
       "      <th>165</th>\n",
       "      <td>2</td>\n",
       "      <td>3</td>\n",
       "      <td>2</td>\n",
       "      <td>1</td>\n",
       "      <td>3</td>\n",
       "      <td>2</td>\n",
       "      <td>1</td>\n",
       "      <td>2</td>\n",
       "      <td>2</td>\n",
       "      <td>1</td>\n",
       "      <td>1</td>\n",
       "      <td>1</td>\n",
       "    </tr>\n",
       "    <tr>\n",
       "      <th>185</th>\n",
       "      <td>2</td>\n",
       "      <td>2</td>\n",
       "      <td>2</td>\n",
       "      <td>1</td>\n",
       "      <td>1</td>\n",
       "      <td>1</td>\n",
       "      <td>1</td>\n",
       "      <td>1</td>\n",
       "      <td>1</td>\n",
       "      <td>1</td>\n",
       "      <td>1</td>\n",
       "      <td>1</td>\n",
       "    </tr>\n",
       "    <tr>\n",
       "      <th>...</th>\n",
       "      <td>...</td>\n",
       "      <td>...</td>\n",
       "      <td>...</td>\n",
       "      <td>...</td>\n",
       "      <td>...</td>\n",
       "      <td>...</td>\n",
       "      <td>...</td>\n",
       "      <td>...</td>\n",
       "      <td>...</td>\n",
       "      <td>...</td>\n",
       "      <td>...</td>\n",
       "      <td>...</td>\n",
       "    </tr>\n",
       "    <tr>\n",
       "      <th>10969</th>\n",
       "      <td>2</td>\n",
       "      <td>2</td>\n",
       "      <td>2</td>\n",
       "      <td>1</td>\n",
       "      <td>1</td>\n",
       "      <td>2</td>\n",
       "      <td>1</td>\n",
       "      <td>1.0</td>\n",
       "      <td>1</td>\n",
       "      <td>2</td>\n",
       "      <td>1</td>\n",
       "      <td>2</td>\n",
       "    </tr>\n",
       "    <tr>\n",
       "      <th>11048</th>\n",
       "      <td>2</td>\n",
       "      <td>3</td>\n",
       "      <td>2</td>\n",
       "      <td>1</td>\n",
       "      <td>1</td>\n",
       "      <td>2</td>\n",
       "      <td>1</td>\n",
       "      <td>1.0</td>\n",
       "      <td>2</td>\n",
       "      <td>2</td>\n",
       "      <td>2</td>\n",
       "      <td>2</td>\n",
       "    </tr>\n",
       "    <tr>\n",
       "      <th>11053</th>\n",
       "      <td>2</td>\n",
       "      <td>3</td>\n",
       "      <td>2</td>\n",
       "      <td>1</td>\n",
       "      <td>3</td>\n",
       "      <td>1</td>\n",
       "      <td>1</td>\n",
       "      <td>3.0</td>\n",
       "      <td>2</td>\n",
       "      <td>2</td>\n",
       "      <td>2</td>\n",
       "      <td>1</td>\n",
       "    </tr>\n",
       "    <tr>\n",
       "      <th>11065</th>\n",
       "      <td>2</td>\n",
       "      <td>2</td>\n",
       "      <td>1</td>\n",
       "      <td>1</td>\n",
       "      <td>3</td>\n",
       "      <td>1</td>\n",
       "      <td>1</td>\n",
       "      <td>2.0</td>\n",
       "      <td>1</td>\n",
       "      <td>2</td>\n",
       "      <td>1</td>\n",
       "      <td>1</td>\n",
       "    </tr>\n",
       "    <tr>\n",
       "      <th>11089</th>\n",
       "      <td>2</td>\n",
       "      <td>3</td>\n",
       "      <td>2</td>\n",
       "      <td>1</td>\n",
       "      <td>3</td>\n",
       "      <td>1</td>\n",
       "      <td>1</td>\n",
       "      <td>3.0</td>\n",
       "      <td>2</td>\n",
       "      <td>1</td>\n",
       "      <td>1</td>\n",
       "      <td>1</td>\n",
       "    </tr>\n",
       "  </tbody>\n",
       "</table>\n",
       "<p>180 rows × 12 columns</p>\n",
       "</div>"
      ],
      "text/plain": [
       "       INV_LANG  DMV_AGECAT  DMV_SEX ACV_TELMED ACV_TELMEDT1 ACV_TELMEDDU  \\\n",
       "2             2           1        1          1            1            1   \n",
       "85            2           1        2          1            3            2   \n",
       "109           2           3        2          1            3            1   \n",
       "165           2           3        2          1            3            2   \n",
       "185           2           2        2          1            1            1   \n",
       "...         ...         ...      ...        ...          ...          ...   \n",
       "10969         2           2        2          1            1            2   \n",
       "11048         2           3        2          1            1            2   \n",
       "11053         2           3        2          1            3            1   \n",
       "11065         2           2        1          1            3            1   \n",
       "11089         2           3        2          1            3            1   \n",
       "\n",
       "      ACV_TELMEDUS ACV_TELMEDT4 ACV_COMPPHON ACV_COMPTAB ACV_INTERNET  \\\n",
       "2                1            1            1           2            2   \n",
       "85               1            3            1           2            2   \n",
       "109              1            3            1           2            1   \n",
       "165              1            2            2           1            1   \n",
       "185              1            1            1           1            1   \n",
       "...            ...          ...          ...         ...          ...   \n",
       "10969            1          1.0            1           2            1   \n",
       "11048            1          1.0            2           2            2   \n",
       "11053            1          3.0            2           2            2   \n",
       "11065            1          2.0            1           2            1   \n",
       "11089            1          3.0            2           1            1   \n",
       "\n",
       "      ACV_AUDIOVID  \n",
       "2                1  \n",
       "85               1  \n",
       "109              2  \n",
       "165              1  \n",
       "185              1  \n",
       "...            ...  \n",
       "10969            2  \n",
       "11048            2  \n",
       "11053            1  \n",
       "11065            1  \n",
       "11089            1  \n",
       "\n",
       "[180 rows x 12 columns]"
      ]
     },
     "execution_count": 89,
     "metadata": {},
     "output_type": "execute_result"
    }
   ],
   "source": [
    "# respondents who gave the interview in Spanish & had telehealth visit since 11/1/20\n",
    "tele_span_df = sub_df[(sub_df['INV_LANG'] == 2) & (sub_df['ACV_TELMEDUS'] == '1')]\n",
    "tele_span_df"
   ]
  },
  {
   "cell_type": "code",
   "execution_count": 82,
   "metadata": {},
   "outputs": [
    {
     "data": {
      "text/plain": [
       "INV_LANG        0\n",
       "DMV_AGECAT      0\n",
       "DMV_SEX         0\n",
       "ACV_TELMED      0\n",
       "ACV_TELMEDT1    0\n",
       "ACV_TELMEDDU    0\n",
       "ACV_TELMEDUS    0\n",
       "ACV_TELMEDT4    0\n",
       "ACV_COMPPHON    0\n",
       "ACV_COMPTAB     0\n",
       "ACV_INTERNET    0\n",
       "ACV_AUDIOVID    0\n",
       "dtype: int64"
      ]
     },
     "execution_count": 82,
     "metadata": {},
     "output_type": "execute_result"
    }
   ],
   "source": [
    "tele_span_df.isnull().sum()\n"
   ]
  },
  {
   "cell_type": "code",
   "execution_count": 88,
   "metadata": {},
   "outputs": [
    {
     "data": {
      "text/plain": [
       "<AxesSubplot:>"
      ]
     },
     "execution_count": 88,
     "metadata": {},
     "output_type": "execute_result"
    },
    {
     "data": {
      "image/png": "[encoded data removed]",
      "text/plain": [
       "<Figure size 842.4x595.44 with 1 Axes>"
      ]
     },
     "metadata": {},
     "output_type": "display_data"
    }
   ],
   "source": [
    "# sns.set(rc={'figure.figsize':(11.7,8.27)})\n",
    "sns.heatmap(tele_span_df.isnull(),yticklabels=False,cbar=False,cmap='viridis')"
   ]
  },
  {
   "cell_type": "code",
   "execution_count": 86,
   "metadata": {},
   "outputs": [],
   "source": [
    "# sns.pairplot(tele_span_df, height=5, aspect=1.5);"
   ]
  },
  {
   "cell_type": "code",
   "execution_count": null,
   "metadata": {},
   "outputs": [],
   "source": []
  }
 ],
 "metadata": {
  "colab": {
   "provenance": []
  },
  "kernelspec": {
   "display_name": "Python 3 (ipykernel)",
   "language": "python",
   "name": "python3"
  },
  "language_info": {
   "codemirror_mode": {
    "name": "ipython",
    "version": 3
   },
   "file_extension": ".py",
   "mimetype": "text/x-python",
   "name": "python",
   "nbconvert_exporter": "python",
   "pygments_lexer": "ipython3",
   "version": "3.8.12"
  }
 },
 "nbformat": 4,
 "nbformat_minor": 1
}
