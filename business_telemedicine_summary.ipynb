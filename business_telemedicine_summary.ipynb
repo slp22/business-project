{
 "cells": [
  {
   "cell_type": "markdown",
   "id": "53225123",
   "metadata": {},
   "source": [
    "#### Business Fundamentals | Summary\n",
    "\n",
    "# Expanding Telemedicine to Offset Cost of Missed Appointments  "
   ]
  },
  {
   "cell_type": "markdown",
   "id": "98c3b154",
   "metadata": {},
   "source": [
    "## Abstract\n",
    "\n",
    "[100 words]\n",
    "\n",
    "## Design\n",
    "\n",
    "**Business Opportunity:** The COVID-19 pandemic and Medicare's temporary [expansion of covered telehealth](https://www.medicare.gov/coverage/telehealth) services [accelerated the adoption](https://c8y.doxcdn.com/image/upload/v1/Press%20Blog/Research%20Reports/2020-state-telemedicine-report.pdf) of patients meeting with their doctor via phone or video. \n",
    "While this was crucial during the pandemic to access care without public transportation and congregating in waiting rooms, we may have an opportunity for medical practices to use telehealth to avoid the costs incurred by patients missing appointments. Unused 60-minute time-slots cost medical practices `$`[200 on average](https://www.hcinnovationgroup.com/clinical-it/article/13008175/missed-appointments-cost-the-us-healthcare-system-150b-each-year), costing the U.S. `$`150 billion each year from missed appointments alone.\n",
    "There is an opportunity for [patients who adopted telehealth](https://www.ncbi.nlm.nih.gov/pmc/articles/PMC7772717/) during the pandemic to continue using it.\n",
    "\n",
    "**Solution Path:** First, exploratory data analysis to gauge how many Medicare patients in metro areas used telehealth services during 2020 and 2021. Second, build a classification model to predict whether a patient would attend a telemedicine visit with their primary care physician for follow up care. Finally, an unsupervised clustering to understand what patient characteristics contribute to their adoption or rejection of telemedicine. \n",
    "\n",
    "**Impact Hypothesis:** Offering telehealth services to patients would reduce costs the medical practice incurs due to no-shows.\n",
    "\n",
    "**Measures of Success**\n",
    "* 15 % cost reduction from missed appointments\n",
    "* 10 % increase in appointment retainment\n",
    "* 15 % increase in patient overall health due to continuity of care \n",
    "\n",
    "**Risks**\n",
    "* Telehealth services have hidden costs that do not offset the income lost to missed appointments and unused clinical time.\n",
    "* The Medicare data does not represent the patient population of the client practice and is not generalizable.\n",
    "* Patients still need to overcome challenges that contribute to missed appointments if their doctor needs to see them in person\n",
    "\n",
    "**Assumptions**\n",
    "* Patients ages 75 and over are more likely to live with one or more chronic conditions that impede their ability to get around on public transportation.\n",
    "* Physicians can assess patients via telemedicine as well as in-person visits.\n",
    "* Patients are interested in telemedicine if offered and have reliable internet at home to access it.\n",
    "\n",
    "## Data\n",
    "\n",
    "The [Medicare Current Beneficiary Survey](https://www.cms.gov/Research-Statistics-Data-and-Systems/Downloadable-Public-Use-Files/MCBS-Public-Use-File) is an ongoing survey of people enrolled in Medicare. The survey's goals are to collect information about access to care, satisfaction with care, and special topics. \n",
    "\n",
    "The Winter 2021 survey asked about access and use of telehealth services (video and audio), access to technology (internet at home, computers, smartphones, tablets), and use of video conferencing services (e.g., Zoom, Skype, FaceTime). It also asked if people had chosen to forgo care during the COVID-19 pandemic and why (lack of transportation, to avoid risk of being in a medical facility, not feeling comfortable leaving their home). This analysis examines data from respondents (n=4,305) from the Winter 2021 survey who live in the Northeast and West. \n",
    "\n",
    "## Algorithm\n",
    "\n",
    "First, cleaned data in [Google Sheets](https://docs.google.com/spreadsheets/d/1D6C3ND8lyubF3_ExAL7TZzlsHO7_-m1A3CbWIuYEd6Q/edit?usp=sharing) and did an exploratory data analysis. Second, summarized survey respondent demographics with pivot tables and charts. Finally, explored respondents' use of telemedicine by features (age, race, income) using filtering and grouping.\n",
    "\n",
    "Visualized the ... in a [Tableau Dashboard](link)\n",
    "\n",
    "## Tools\n",
    "\n",
    "* [Google Sheets](https://docs.google.com/spreadsheets/d/1D6C3ND8lyubF3_ExAL7TZzlsHO7_-m1A3CbWIuYEd6Q/edit#gid=1340857360): data cleaning, analysis, and charts\n",
    "* [Tableau](https://public.tableau.com/app/profile/sandra.paredes/viz/ExpandingTelemedicinetoOffsetCostofMissedAppointments/TelemedicineOffset): data visualizations <br/>\n",
    "\n",
    "## Communication\n",
    "\n",
    "Slides and data are available at: [https://github.com/slp22/business-project](https://github.com/slp22/business-project) \n",
    "Tableau visualizations available at: [https://public.tableau.com/app/profile/sandra.paredes](https://public.tableau.com/app/profile/sandra.paredes/viz/ExpandingTelemedicinetoOffsetCostofMissedAppointments/Dashboard1)\n",
    "<br/>\n",
    "<br/>\n",
    "<br/>"
   ]
  },
  {
   "cell_type": "code",
   "execution_count": null,
   "id": "d1b463aa",
   "metadata": {},
   "outputs": [],
   "source": []
  },
  {
   "cell_type": "code",
   "execution_count": null,
   "id": "5de2b565",
   "metadata": {},
   "outputs": [],
   "source": []
  }
 ],
 "metadata": {
  "kernelspec": {
   "display_name": "Python 3 (ipykernel)",
   "language": "python",
   "name": "python3"
  },
  "language_info": {
   "codemirror_mode": {
    "name": "ipython",
    "version": 3
   },
   "file_extension": ".py",
   "mimetype": "text/x-python",
   "name": "python",
   "nbconvert_exporter": "python",
   "pygments_lexer": "ipython3",
   "version": "3.8.12"
  }
 },
 "nbformat": 4,
 "nbformat_minor": 5
}
